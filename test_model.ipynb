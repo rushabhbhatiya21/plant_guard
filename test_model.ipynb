{
 "cells": [
  {
   "cell_type": "code",
   "execution_count": 1,
   "id": "b75b4142-8936-4a55-9ae0-b96152525ddc",
   "metadata": {},
   "outputs": [],
   "source": [
    "from tensorflow.keras.models import load_model"
   ]
  },
  {
   "cell_type": "code",
   "execution_count": 2,
   "id": "82a64247-4efc-4f34-a3d7-523b87778040",
   "metadata": {},
   "outputs": [],
   "source": [
    "model_save_path = r'api/model.h5'"
   ]
  },
  {
   "cell_type": "code",
   "execution_count": 3,
   "id": "a3435da8-c4e1-4ed5-8123-94692687c379",
   "metadata": {},
   "outputs": [
    {
     "name": "stdout",
     "output_type": "stream",
     "text": [
      "<keras.engine.functional.Functional object at 0x000001EEFCAB0130>\n"
     ]
    }
   ],
   "source": [
    "loaded_model = load_model(model_save_path)\n",
    "print(loaded_model)"
   ]
  },
  {
   "cell_type": "code",
   "execution_count": 4,
   "id": "d6d48713-2fc0-4bee-a5c4-3bca7e341ca0",
   "metadata": {},
   "outputs": [],
   "source": [
    "from PIL import Image\n",
    "import numpy as np"
   ]
  },
  {
   "cell_type": "code",
   "execution_count": 13,
   "id": "7b755413-075e-4c2e-a420-3ed90152e9df",
   "metadata": {},
   "outputs": [],
   "source": [
    "# Define a function to preprocess the uploaded image\n",
    "def preprocess_image(image_path):\n",
    "    # Load the image\n",
    "    img = Image.open(image_path)\n",
    "\n",
    "    # Preprocess the image as needed for your model (e.g., resizing and normalization)\n",
    "    img = img.resize((224, 224))  # Adjust to match your model's input size\n",
    "    img = np.array(img) / 255.0  # Normalize pixel values\n",
    "\n",
    "    return img"
   ]
  },
  {
   "cell_type": "code",
   "execution_count": 14,
   "id": "0e2e4b6b-9bd1-4e17-9ea6-6fe358b6a357",
   "metadata": {},
   "outputs": [],
   "source": [
    "disease_labels = [\n",
    "            'Apple___Apple_scab',\n",
    "            'Apple___Black_rot',\n",
    "            'Apple___Cedar_apple_rust',\n",
    "            'Apple___healthy',\n",
    "            'Blueberry___healthy',\n",
    "            'Cherry_(including_sour)___healthy',\n",
    "            'Cherry_(including_sour)___Powdery_mildew',\n",
    "            'Corn_(maize)___Cercospora_leaf_spot Gray_leaf_spot',\n",
    "            'Corn_(maize)___Common_rust_',\n",
    "            'Corn_(maize)___healthy',\n",
    "            'Corn_(maize)___Northern_Leaf_Blight',\n",
    "            'Grape___Black_rot',\n",
    "            'Grape___Esca_(Black_Measles)',\n",
    "            'Grape___healthy',\n",
    "            'Grape___Leaf_blight_(Isariopsis_Leaf_Spot)',\n",
    "            'Orange___Haunglongbing_(Citrus_greening)',\n",
    "            'Peach___Bacterial_spot',\n",
    "            'Peach___healthy',\n",
    "            'Pepper,_bell___Bacterial_spot',\n",
    "            'Pepper,_bell___healthy',\n",
    "            'Potato___Early_blight',\n",
    "            'Potato___healthy',\n",
    "            'Potato___Late_blight',\n",
    "            'Raspberry___healthy',\n",
    "            'Soybean___healthy',\n",
    "            'Squash___Powdery_mildew',\n",
    "            'Strawberry___healthy',\n",
    "            'Strawberry___Leaf_scorch',\n",
    "            'Tomato___Bacterial_spot',\n",
    "            'Tomato___Early_blight',\n",
    "            'Tomato___healthy',\n",
    "            'Tomato___Late_blight',\n",
    "            'Tomato___Leaf_Mold',\n",
    "            'Tomato___Septoria_leaf_spot',\n",
    "            'Tomato___Spider_mites Two-spotted_spider_mite',\n",
    "            'Tomato___Target_Spot',\n",
    "            'Tomato___Tomato_mosaic_virus',\n",
    "            'Tomato___Tomato_Yellow_Leaf_Curl_Virus',\n",
    "            # Add your disease labels here\n",
    "        ]"
   ]
  },
  {
   "cell_type": "code",
   "execution_count": 22,
   "id": "ea87e37f-b501-47e5-9326-3d44726f4f4f",
   "metadata": {},
   "outputs": [],
   "source": [
    "image_path = r'New Plant Diseases Dataset(Augmented)/test/Corn_(maize)___Common_rust_/CornCommonRust2.JPG'"
   ]
  },
  {
   "cell_type": "code",
   "execution_count": 23,
   "id": "9c80e2a1-e173-4ccf-b580-d7d2a606a24e",
   "metadata": {},
   "outputs": [],
   "source": [
    "preprocessed_image = preprocess_image(image_path)"
   ]
  },
  {
   "cell_type": "code",
   "execution_count": 24,
   "id": "1b8860a1-11c7-4c47-a0a6-7638fd91758e",
   "metadata": {},
   "outputs": [],
   "source": [
    "# Make predictions using your model\n",
    "predictions = loaded_model.predict(np.expand_dims(preprocessed_image, axis=0))\n",
    "\n",
    "# Extract the predicted class (disease)\n",
    "predicted_class = np.argmax(predictions, axis=1)"
   ]
  },
  {
   "cell_type": "code",
   "execution_count": 25,
   "id": "42c20dc2-77fd-4758-a1de-ed38e77a3257",
   "metadata": {},
   "outputs": [
    {
     "name": "stdout",
     "output_type": "stream",
     "text": [
      "Corn_(maize)___Common_rust_\n"
     ]
    }
   ],
   "source": [
    "# Make predictions\n",
    "predicted_disease = disease_labels[predicted_class[0]]\n",
    "\n",
    "# Print the predictions\n",
    "print(predicted_disease)"
   ]
  }
 ],
 "metadata": {
  "kernelspec": {
   "display_name": "env_diseasedetection",
   "language": "python",
   "name": "env_diseasedetection"
  },
  "language_info": {
   "codemirror_mode": {
    "name": "ipython",
    "version": 3
   },
   "file_extension": ".py",
   "mimetype": "text/x-python",
   "name": "python",
   "nbconvert_exporter": "python",
   "pygments_lexer": "ipython3",
   "version": "3.10.13"
  }
 },
 "nbformat": 4,
 "nbformat_minor": 5
}
